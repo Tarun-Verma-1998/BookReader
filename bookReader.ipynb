{
 "cells": [
  {
   "cell_type": "markdown",
   "id": "ec3bc3e6-1d7e-42fb-af3c-30c1dabd810a",
   "metadata": {},
   "source": [
    "#### **Importing all the important libraries**"
   ]
  },
  {
   "cell_type": "code",
   "execution_count": 327,
   "id": "05da7b52",
   "metadata": {},
   "outputs": [],
   "source": [
    "import numpy as np\n",
    "import pandas as pd\n",
    "import matplotlib.pyplot as plt\n",
    "import seaborn as sns\n"
   ]
  },
  {
   "cell_type": "markdown",
   "id": "bfb1ae66-a414-43dd-b44f-263a4be7688b",
   "metadata": {},
   "source": [
    "#### **Loading the main data file**"
   ]
  },
  {
   "cell_type": "code",
   "execution_count": 328,
   "id": "229abd65",
   "metadata": {},
   "outputs": [],
   "source": [
    "main_df = pd.read_csv('bookdatacs.csv')"
   ]
  },
  {
   "cell_type": "markdown",
   "id": "77290269-234c-4b50-bcd0-7d02bbd3e0d3",
   "metadata": {},
   "source": [
    "## **EDA**"
   ]
  },
  {
   "cell_type": "code",
   "execution_count": 329,
   "id": "e3b7c3b2",
   "metadata": {},
   "outputs": [
    {
     "data": {
      "text/html": [
       "<div>\n",
       "<style scoped>\n",
       "    .dataframe tbody tr th:only-of-type {\n",
       "        vertical-align: middle;\n",
       "    }\n",
       "\n",
       "    .dataframe tbody tr th {\n",
       "        vertical-align: top;\n",
       "    }\n",
       "\n",
       "    .dataframe thead th {\n",
       "        text-align: right;\n",
       "    }\n",
       "</style>\n",
       "<table border=\"1\" class=\"dataframe\">\n",
       "  <thead>\n",
       "    <tr style=\"text-align: right;\">\n",
       "      <th></th>\n",
       "      <th>reader_id</th>\n",
       "      <th>book_title</th>\n",
       "      <th>page_count</th>\n",
       "      <th>finish</th>\n",
       "      <th>book_category</th>\n",
       "    </tr>\n",
       "  </thead>\n",
       "  <tbody>\n",
       "    <tr>\n",
       "      <th>0</th>\n",
       "      <td>1</td>\n",
       "      <td>The Great Gatsby</td>\n",
       "      <td>180</td>\n",
       "      <td>yes</td>\n",
       "      <td>Fiction</td>\n",
       "    </tr>\n",
       "    <tr>\n",
       "      <th>1</th>\n",
       "      <td>2</td>\n",
       "      <td>The Catcher in the Rye</td>\n",
       "      <td>214</td>\n",
       "      <td>no</td>\n",
       "      <td>Fiction</td>\n",
       "    </tr>\n",
       "    <tr>\n",
       "      <th>2</th>\n",
       "      <td>3</td>\n",
       "      <td>To Kill a Mockingbird</td>\n",
       "      <td>281</td>\n",
       "      <td>yes</td>\n",
       "      <td>Fiction</td>\n",
       "    </tr>\n",
       "    <tr>\n",
       "      <th>3</th>\n",
       "      <td>4</td>\n",
       "      <td>The Grapes of Wrath</td>\n",
       "      <td>436</td>\n",
       "      <td>no</td>\n",
       "      <td>Fiction</td>\n",
       "    </tr>\n",
       "    <tr>\n",
       "      <th>4</th>\n",
       "      <td>5</td>\n",
       "      <td>The Hobbit</td>\n",
       "      <td>295</td>\n",
       "      <td>yes</td>\n",
       "      <td>Fantasy</td>\n",
       "    </tr>\n",
       "  </tbody>\n",
       "</table>\n",
       "</div>"
      ],
      "text/plain": [
       "   reader_id              book_title  page_count finish book_category\n",
       "0          1        The Great Gatsby         180    yes       Fiction\n",
       "1          2  The Catcher in the Rye         214     no       Fiction\n",
       "2          3   To Kill a Mockingbird         281    yes       Fiction\n",
       "3          4     The Grapes of Wrath         436     no       Fiction\n",
       "4          5              The Hobbit         295    yes       Fantasy"
      ]
     },
     "execution_count": 329,
     "metadata": {},
     "output_type": "execute_result"
    }
   ],
   "source": [
    "main_df.head()"
   ]
  },
  {
   "cell_type": "code",
   "execution_count": 330,
   "id": "24d0726c",
   "metadata": {},
   "outputs": [
    {
     "data": {
      "text/html": [
       "<div>\n",
       "<style scoped>\n",
       "    .dataframe tbody tr th:only-of-type {\n",
       "        vertical-align: middle;\n",
       "    }\n",
       "\n",
       "    .dataframe tbody tr th {\n",
       "        vertical-align: top;\n",
       "    }\n",
       "\n",
       "    .dataframe thead th {\n",
       "        text-align: right;\n",
       "    }\n",
       "</style>\n",
       "<table border=\"1\" class=\"dataframe\">\n",
       "  <thead>\n",
       "    <tr style=\"text-align: right;\">\n",
       "      <th></th>\n",
       "      <th>reader_id</th>\n",
       "      <th>book_title</th>\n",
       "      <th>page_count</th>\n",
       "      <th>finish</th>\n",
       "      <th>book_category</th>\n",
       "    </tr>\n",
       "  </thead>\n",
       "  <tbody>\n",
       "    <tr>\n",
       "      <th>98</th>\n",
       "      <td>100</td>\n",
       "      <td>The Alchemist</td>\n",
       "      <td>197</td>\n",
       "      <td>yes</td>\n",
       "      <td>Fiction</td>\n",
       "    </tr>\n",
       "    <tr>\n",
       "      <th>99</th>\n",
       "      <td>101</td>\n",
       "      <td>The Catcher in the Rye</td>\n",
       "      <td>214</td>\n",
       "      <td>no</td>\n",
       "      <td>Fiction</td>\n",
       "    </tr>\n",
       "    <tr>\n",
       "      <th>100</th>\n",
       "      <td>102</td>\n",
       "      <td>To Kill a Mockingbird</td>\n",
       "      <td>281</td>\n",
       "      <td>yes</td>\n",
       "      <td>Fiction</td>\n",
       "    </tr>\n",
       "    <tr>\n",
       "      <th>101</th>\n",
       "      <td>103</td>\n",
       "      <td>The Grapes of Wrath</td>\n",
       "      <td>436</td>\n",
       "      <td>no</td>\n",
       "      <td>Fiction</td>\n",
       "    </tr>\n",
       "    <tr>\n",
       "      <th>102</th>\n",
       "      <td>104</td>\n",
       "      <td>The Great Gatsby</td>\n",
       "      <td>180</td>\n",
       "      <td>yes</td>\n",
       "      <td>Fiction</td>\n",
       "    </tr>\n",
       "  </tbody>\n",
       "</table>\n",
       "</div>"
      ],
      "text/plain": [
       "     reader_id              book_title  page_count finish book_category\n",
       "98         100           The Alchemist         197    yes       Fiction\n",
       "99         101  The Catcher in the Rye         214     no       Fiction\n",
       "100        102   To Kill a Mockingbird         281    yes       Fiction\n",
       "101        103     The Grapes of Wrath         436     no       Fiction\n",
       "102        104        The Great Gatsby         180    yes       Fiction"
      ]
     },
     "execution_count": 330,
     "metadata": {},
     "output_type": "execute_result"
    }
   ],
   "source": [
    "main_df.tail()"
   ]
  },
  {
   "cell_type": "code",
   "execution_count": 331,
   "id": "13887a9a",
   "metadata": {},
   "outputs": [
    {
     "data": {
      "text/plain": [
       "(103, 5)"
      ]
     },
     "execution_count": 331,
     "metadata": {},
     "output_type": "execute_result"
    }
   ],
   "source": [
    "main_df.shape"
   ]
  },
  {
   "cell_type": "code",
   "execution_count": 332,
   "id": "007348b5",
   "metadata": {},
   "outputs": [
    {
     "name": "stdout",
     "output_type": "stream",
     "text": [
      "reader_id         int64\n",
      "book_title       object\n",
      "page_count        int64\n",
      "finish           object\n",
      "book_category    object\n",
      "dtype: object\n"
     ]
    }
   ],
   "source": [
    "print(main_df.dtypes)"
   ]
  },
  {
   "cell_type": "code",
   "execution_count": 333,
   "id": "1befc018",
   "metadata": {},
   "outputs": [
    {
     "data": {
      "text/plain": [
       "reader_id        103\n",
       "book_title       103\n",
       "page_count       103\n",
       "finish           103\n",
       "book_category    103\n",
       "dtype: int64"
      ]
     },
     "execution_count": 333,
     "metadata": {},
     "output_type": "execute_result"
    }
   ],
   "source": [
    "main_df.apply(lambda x: x.count())"
   ]
  },
  {
   "cell_type": "code",
   "execution_count": 334,
   "id": "f06f97e3",
   "metadata": {},
   "outputs": [
    {
     "data": {
      "text/html": [
       "<div>\n",
       "<style scoped>\n",
       "    .dataframe tbody tr th:only-of-type {\n",
       "        vertical-align: middle;\n",
       "    }\n",
       "\n",
       "    .dataframe tbody tr th {\n",
       "        vertical-align: top;\n",
       "    }\n",
       "\n",
       "    .dataframe thead th {\n",
       "        text-align: right;\n",
       "    }\n",
       "</style>\n",
       "<table border=\"1\" class=\"dataframe\">\n",
       "  <thead>\n",
       "    <tr style=\"text-align: right;\">\n",
       "      <th></th>\n",
       "      <th>reader_id</th>\n",
       "      <th>book_title</th>\n",
       "      <th>page_count</th>\n",
       "      <th>finish</th>\n",
       "      <th>book_category</th>\n",
       "    </tr>\n",
       "  </thead>\n",
       "  <tbody>\n",
       "    <tr>\n",
       "      <th>0</th>\n",
       "      <td>[1, 2, 3, 4, 5, 6, 7, 8, 9, 10, 11, 12, 13, 14...</td>\n",
       "      <td>[The Great Gatsby, The Catcher in the Rye, To ...</td>\n",
       "      <td>[180, 214, 281, 436, 295, 182, 374, 144, 197, ...</td>\n",
       "      <td>[yes, no]</td>\n",
       "      <td>[Fiction, Fantasy, Non-Fiction, Children's Lit...</td>\n",
       "    </tr>\n",
       "  </tbody>\n",
       "</table>\n",
       "</div>"
      ],
      "text/plain": [
       "                                           reader_id  \\\n",
       "0  [1, 2, 3, 4, 5, 6, 7, 8, 9, 10, 11, 12, 13, 14...   \n",
       "\n",
       "                                          book_title  \\\n",
       "0  [The Great Gatsby, The Catcher in the Rye, To ...   \n",
       "\n",
       "                                          page_count     finish  \\\n",
       "0  [180, 214, 281, 436, 295, 182, 374, 144, 197, ...  [yes, no]   \n",
       "\n",
       "                                       book_category  \n",
       "0  [Fiction, Fantasy, Non-Fiction, Children's Lit...  "
      ]
     },
     "execution_count": 334,
     "metadata": {},
     "output_type": "execute_result"
    }
   ],
   "source": [
    " main_df.apply(lambda x: [x.unique()])"
   ]
  },
  {
   "cell_type": "code",
   "execution_count": 335,
   "id": "bcf480d7",
   "metadata": {},
   "outputs": [
    {
     "data": {
      "text/plain": [
       "array(['Fiction', 'Fantasy', 'Non-Fiction', \"Children's Literature\"],\n",
       "      dtype=object)"
      ]
     },
     "execution_count": 335,
     "metadata": {},
     "output_type": "execute_result"
    }
   ],
   "source": [
    "main_df['book_category'].unique()"
   ]
  },
  {
   "cell_type": "markdown",
   "id": "ceb298a5-2c7d-4fcb-9a1d-e3da2f7d08fc",
   "metadata": {},
   "source": [
    "##### *So there are four different book categories or genres.*"
   ]
  },
  {
   "cell_type": "markdown",
   "id": "813998a9-5548-4768-9dad-32f0e2a313fb",
   "metadata": {},
   "source": [
    "#### *Plotting for the count of different book categories*"
   ]
  },
  {
   "cell_type": "code",
   "execution_count": 336,
   "id": "8dbcfa71",
   "metadata": {},
   "outputs": [
    {
     "data": {
      "text/plain": [
       "<AxesSubplot:xlabel='book_category', ylabel='count'>"
      ]
     },
     "execution_count": 336,
     "metadata": {},
     "output_type": "execute_result"
    },
    {
     "data": {
      "image/png": "[encoded data removed]",
      "text/plain": [
       "<Figure size 640x480 with 1 Axes>"
      ]
     },
     "metadata": {},
     "output_type": "display_data"
    }
   ],
   "source": [
    "sns.countplot(x=main_df['book_category'])"
   ]
  },
  {
   "cell_type": "markdown",
   "id": "a6e2c7d7-3448-4718-a8b3-e748dbd1f81c",
   "metadata": {},
   "source": [
    "#### *Plotting for the count of which book categories were finished or not*"
   ]
  },
  {
   "cell_type": "code",
   "execution_count": 337,
   "id": "485c86fd",
   "metadata": {},
   "outputs": [
    {
     "data": {
      "text/plain": [
       "<AxesSubplot:xlabel='book_category', ylabel='count'>"
      ]
     },
     "execution_count": 337,
     "metadata": {},
     "output_type": "execute_result"
    },
    {
     "data": {
      "image/png": "[encoded data removed]",
      "text/plain": [
       "<Figure size 640x480 with 1 Axes>"
      ]
     },
     "metadata": {},
     "output_type": "display_data"
    }
   ],
   "source": [
    "sns.countplot(x=main_df['book_category'],hue=main_df['finish'])"
   ]
  },
  {
   "cell_type": "markdown",
   "id": "291b58eb-a802-4fba-8d99-40b2e37102ec",
   "metadata": {},
   "source": [
    "### **Data Cleaning**"
   ]
  },
  {
   "cell_type": "code",
   "execution_count": 338,
   "id": "7a7e2489-1fe2-4882-8667-4eeed692b57f",
   "metadata": {},
   "outputs": [
    {
     "data": {
      "text/plain": [
       "reader_id        0\n",
       "book_title       0\n",
       "page_count       0\n",
       "finish           0\n",
       "book_category    0\n",
       "dtype: int64"
      ]
     },
     "execution_count": 338,
     "metadata": {},
     "output_type": "execute_result"
    }
   ],
   "source": [
    "main_df[main_df.isnull().any(axis=1)].count()"
   ]
  },
  {
   "cell_type": "code",
   "execution_count": 339,
   "id": "22873c44-ad12-42a7-b076-b82c94f71bf3",
   "metadata": {},
   "outputs": [
    {
     "data": {
      "text/plain": [
       "<AxesSubplot:>"
      ]
     },
     "execution_count": 339,
     "metadata": {},
     "output_type": "execute_result"
    },
    {
     "data": {
      "image/png": "[encoded data removed]",
      "text/plain": [
       "<Figure size 1500x500 with 2 Axes>"
      ]
     },
     "metadata": {},
     "output_type": "display_data"
    }
   ],
   "source": [
    "fig,ax=plt.subplots(figsize=(15,5))\n",
    "sns.heatmap(main_df.isnull(), annot=True)"
   ]
  },
  {
   "cell_type": "markdown",
   "id": "fe3a764c-9e78-4e9a-b1c7-f518c32d87ce",
   "metadata": {},
   "source": [
    "#### *That's Good. There are no missing values.*"
   ]
  },
  {
   "cell_type": "markdown",
   "id": "9eb4d1ae-92c1-4dc7-be32-33208d9b5a71",
   "metadata": {},
   "source": [
    "### **Data Processing and Feature Selection**"
   ]
  },
  {
   "cell_type": "markdown",
   "id": "029eb3ac-1c25-4321-9d6e-cb4b657e615b",
   "metadata": {},
   "source": [
    "#### **Performing One Code Encoding to deal with categorical features.**"
   ]
  },
  {
   "cell_type": "code",
   "execution_count": 340,
   "id": "c9c1a941-51a1-4cb9-a2c7-c1489f383f82",
   "metadata": {},
   "outputs": [
    {
     "data": {
      "text/html": [
       "<div>\n",
       "<style scoped>\n",
       "    .dataframe tbody tr th:only-of-type {\n",
       "        vertical-align: middle;\n",
       "    }\n",
       "\n",
       "    .dataframe tbody tr th {\n",
       "        vertical-align: top;\n",
       "    }\n",
       "\n",
       "    .dataframe thead th {\n",
       "        text-align: right;\n",
       "    }\n",
       "</style>\n",
       "<table border=\"1\" class=\"dataframe\">\n",
       "  <thead>\n",
       "    <tr style=\"text-align: right;\">\n",
       "      <th></th>\n",
       "      <th>reader_id</th>\n",
       "      <th>book_title</th>\n",
       "      <th>page_count</th>\n",
       "      <th>finish</th>\n",
       "      <th>book_category</th>\n",
       "      <th>Children's Literature</th>\n",
       "      <th>Fantasy</th>\n",
       "      <th>Fiction</th>\n",
       "      <th>Non-Fiction</th>\n",
       "    </tr>\n",
       "  </thead>\n",
       "  <tbody>\n",
       "    <tr>\n",
       "      <th>0</th>\n",
       "      <td>1</td>\n",
       "      <td>The Great Gatsby</td>\n",
       "      <td>180</td>\n",
       "      <td>yes</td>\n",
       "      <td>Fiction</td>\n",
       "      <td>0</td>\n",
       "      <td>0</td>\n",
       "      <td>1</td>\n",
       "      <td>0</td>\n",
       "    </tr>\n",
       "    <tr>\n",
       "      <th>1</th>\n",
       "      <td>2</td>\n",
       "      <td>The Catcher in the Rye</td>\n",
       "      <td>214</td>\n",
       "      <td>no</td>\n",
       "      <td>Fiction</td>\n",
       "      <td>0</td>\n",
       "      <td>0</td>\n",
       "      <td>1</td>\n",
       "      <td>0</td>\n",
       "    </tr>\n",
       "    <tr>\n",
       "      <th>2</th>\n",
       "      <td>3</td>\n",
       "      <td>To Kill a Mockingbird</td>\n",
       "      <td>281</td>\n",
       "      <td>yes</td>\n",
       "      <td>Fiction</td>\n",
       "      <td>0</td>\n",
       "      <td>0</td>\n",
       "      <td>1</td>\n",
       "      <td>0</td>\n",
       "    </tr>\n",
       "    <tr>\n",
       "      <th>3</th>\n",
       "      <td>4</td>\n",
       "      <td>The Grapes of Wrath</td>\n",
       "      <td>436</td>\n",
       "      <td>no</td>\n",
       "      <td>Fiction</td>\n",
       "      <td>0</td>\n",
       "      <td>0</td>\n",
       "      <td>1</td>\n",
       "      <td>0</td>\n",
       "    </tr>\n",
       "    <tr>\n",
       "      <th>4</th>\n",
       "      <td>5</td>\n",
       "      <td>The Hobbit</td>\n",
       "      <td>295</td>\n",
       "      <td>yes</td>\n",
       "      <td>Fantasy</td>\n",
       "      <td>0</td>\n",
       "      <td>1</td>\n",
       "      <td>0</td>\n",
       "      <td>0</td>\n",
       "    </tr>\n",
       "  </tbody>\n",
       "</table>\n",
       "</div>"
      ],
      "text/plain": [
       "   reader_id              book_title  page_count finish book_category  \\\n",
       "0          1        The Great Gatsby         180    yes       Fiction   \n",
       "1          2  The Catcher in the Rye         214     no       Fiction   \n",
       "2          3   To Kill a Mockingbird         281    yes       Fiction   \n",
       "3          4     The Grapes of Wrath         436     no       Fiction   \n",
       "4          5              The Hobbit         295    yes       Fantasy   \n",
       "\n",
       "   Children's Literature  Fantasy  Fiction  Non-Fiction  \n",
       "0                      0        0        1            0  \n",
       "1                      0        0        1            0  \n",
       "2                      0        0        1            0  \n",
       "3                      0        0        1            0  \n",
       "4                      0        1        0            0  "
      ]
     },
     "execution_count": 340,
     "metadata": {},
     "output_type": "execute_result"
    }
   ],
   "source": [
    "encoded = pd.get_dummies(main_df['book_category'])\n",
    "merged_data = pd.concat([main_df, encoded], axis='columns')\n",
    "merged_data.head()"
   ]
  },
  {
   "cell_type": "markdown",
   "id": "4fbca891-6d73-4100-a08f-ced7929a4cbc",
   "metadata": {},
   "source": [
    "#### *Removing features which are not required anymore for the model.*"
   ]
  },
  {
   "cell_type": "code",
   "execution_count": 341,
   "id": "62607de8-25fd-46e1-9273-74d544b4e149",
   "metadata": {},
   "outputs": [
    {
     "data": {
      "text/html": [
       "<div>\n",
       "<style scoped>\n",
       "    .dataframe tbody tr th:only-of-type {\n",
       "        vertical-align: middle;\n",
       "    }\n",
       "\n",
       "    .dataframe tbody tr th {\n",
       "        vertical-align: top;\n",
       "    }\n",
       "\n",
       "    .dataframe thead th {\n",
       "        text-align: right;\n",
       "    }\n",
       "</style>\n",
       "<table border=\"1\" class=\"dataframe\">\n",
       "  <thead>\n",
       "    <tr style=\"text-align: right;\">\n",
       "      <th></th>\n",
       "      <th>page_count</th>\n",
       "      <th>finish</th>\n",
       "      <th>Children's Literature</th>\n",
       "      <th>Fantasy</th>\n",
       "      <th>Fiction</th>\n",
       "      <th>Non-Fiction</th>\n",
       "    </tr>\n",
       "  </thead>\n",
       "  <tbody>\n",
       "    <tr>\n",
       "      <th>0</th>\n",
       "      <td>180</td>\n",
       "      <td>yes</td>\n",
       "      <td>0</td>\n",
       "      <td>0</td>\n",
       "      <td>1</td>\n",
       "      <td>0</td>\n",
       "    </tr>\n",
       "    <tr>\n",
       "      <th>1</th>\n",
       "      <td>214</td>\n",
       "      <td>no</td>\n",
       "      <td>0</td>\n",
       "      <td>0</td>\n",
       "      <td>1</td>\n",
       "      <td>0</td>\n",
       "    </tr>\n",
       "    <tr>\n",
       "      <th>2</th>\n",
       "      <td>281</td>\n",
       "      <td>yes</td>\n",
       "      <td>0</td>\n",
       "      <td>0</td>\n",
       "      <td>1</td>\n",
       "      <td>0</td>\n",
       "    </tr>\n",
       "    <tr>\n",
       "      <th>3</th>\n",
       "      <td>436</td>\n",
       "      <td>no</td>\n",
       "      <td>0</td>\n",
       "      <td>0</td>\n",
       "      <td>1</td>\n",
       "      <td>0</td>\n",
       "    </tr>\n",
       "    <tr>\n",
       "      <th>4</th>\n",
       "      <td>295</td>\n",
       "      <td>yes</td>\n",
       "      <td>0</td>\n",
       "      <td>1</td>\n",
       "      <td>0</td>\n",
       "      <td>0</td>\n",
       "    </tr>\n",
       "  </tbody>\n",
       "</table>\n",
       "</div>"
      ],
      "text/plain": [
       "   page_count finish  Children's Literature  Fantasy  Fiction  Non-Fiction\n",
       "0         180    yes                      0        0        1            0\n",
       "1         214     no                      0        0        1            0\n",
       "2         281    yes                      0        0        1            0\n",
       "3         436     no                      0        0        1            0\n",
       "4         295    yes                      0        1        0            0"
      ]
     },
     "execution_count": 341,
     "metadata": {},
     "output_type": "execute_result"
    }
   ],
   "source": [
    "merged_data.drop(['reader_id'], axis=1, inplace=True) \n",
    "merged_data.drop(['book_title'], axis=1, inplace=True) \n",
    "merged_data.drop(['book_category'], axis=1, inplace=True) \n",
    "merged_data.head()"
   ]
  },
  {
   "cell_type": "markdown",
   "id": "32148b5e-e7d6-49ea-bccd-44f7986df5e7",
   "metadata": {},
   "source": [
    "#### *Converting the target label into numeric as sklearn only supports numeric values*"
   ]
  },
  {
   "cell_type": "code",
   "execution_count": 342,
   "id": "6696c64b-10d9-4e77-9c42-59d1e95f7a8d",
   "metadata": {},
   "outputs": [],
   "source": [
    "merged_data['finish'].replace(['no', 'yes'],\n",
    "                        [0, 1], inplace=True)"
   ]
  },
  {
   "cell_type": "code",
   "execution_count": 343,
   "id": "93a6ccfa-febf-4a4c-9a9a-6d1cffd71eaa",
   "metadata": {},
   "outputs": [
    {
     "data": {
      "text/html": [
       "<div>\n",
       "<style scoped>\n",
       "    .dataframe tbody tr th:only-of-type {\n",
       "        vertical-align: middle;\n",
       "    }\n",
       "\n",
       "    .dataframe tbody tr th {\n",
       "        vertical-align: top;\n",
       "    }\n",
       "\n",
       "    .dataframe thead th {\n",
       "        text-align: right;\n",
       "    }\n",
       "</style>\n",
       "<table border=\"1\" class=\"dataframe\">\n",
       "  <thead>\n",
       "    <tr style=\"text-align: right;\">\n",
       "      <th></th>\n",
       "      <th>page_count</th>\n",
       "      <th>finish</th>\n",
       "      <th>Children's Literature</th>\n",
       "      <th>Fantasy</th>\n",
       "      <th>Fiction</th>\n",
       "      <th>Non-Fiction</th>\n",
       "    </tr>\n",
       "  </thead>\n",
       "  <tbody>\n",
       "    <tr>\n",
       "      <th>0</th>\n",
       "      <td>180</td>\n",
       "      <td>1</td>\n",
       "      <td>0</td>\n",
       "      <td>0</td>\n",
       "      <td>1</td>\n",
       "      <td>0</td>\n",
       "    </tr>\n",
       "    <tr>\n",
       "      <th>1</th>\n",
       "      <td>214</td>\n",
       "      <td>0</td>\n",
       "      <td>0</td>\n",
       "      <td>0</td>\n",
       "      <td>1</td>\n",
       "      <td>0</td>\n",
       "    </tr>\n",
       "    <tr>\n",
       "      <th>2</th>\n",
       "      <td>281</td>\n",
       "      <td>1</td>\n",
       "      <td>0</td>\n",
       "      <td>0</td>\n",
       "      <td>1</td>\n",
       "      <td>0</td>\n",
       "    </tr>\n",
       "    <tr>\n",
       "      <th>3</th>\n",
       "      <td>436</td>\n",
       "      <td>0</td>\n",
       "      <td>0</td>\n",
       "      <td>0</td>\n",
       "      <td>1</td>\n",
       "      <td>0</td>\n",
       "    </tr>\n",
       "    <tr>\n",
       "      <th>4</th>\n",
       "      <td>295</td>\n",
       "      <td>1</td>\n",
       "      <td>0</td>\n",
       "      <td>1</td>\n",
       "      <td>0</td>\n",
       "      <td>0</td>\n",
       "    </tr>\n",
       "  </tbody>\n",
       "</table>\n",
       "</div>"
      ],
      "text/plain": [
       "   page_count  finish  Children's Literature  Fantasy  Fiction  Non-Fiction\n",
       "0         180       1                      0        0        1            0\n",
       "1         214       0                      0        0        1            0\n",
       "2         281       1                      0        0        1            0\n",
       "3         436       0                      0        0        1            0\n",
       "4         295       1                      0        1        0            0"
      ]
     },
     "execution_count": 343,
     "metadata": {},
     "output_type": "execute_result"
    }
   ],
   "source": [
    "merged_data.head()"
   ]
  },
  {
   "cell_type": "markdown",
   "id": "d484791f-d300-4c02-a7ac-4835d0e948ae",
   "metadata": {},
   "source": [
    "#### **Importing ML Libraries**"
   ]
  },
  {
   "cell_type": "code",
   "execution_count": 344,
   "id": "9a62a331-c199-4835-b9cc-5b5e7c42c933",
   "metadata": {},
   "outputs": [],
   "source": [
    "from sklearn.model_selection import train_test_split\n",
    "from sklearn import tree\n",
    "from sklearn.metrics import accuracy_score\n",
    "from sklearn.metrics import precision_score\n",
    "from sklearn.metrics import recall_score\n",
    "from sklearn.metrics import classification_report,confusion_matrix\n",
    "from sklearn import metrics\n",
    "from sklearn.model_selection import KFold   "
   ]
  },
  {
   "cell_type": "code",
   "execution_count": 345,
   "id": "1e7c47b1-bb83-43fc-8775-569b7b2379c5",
   "metadata": {},
   "outputs": [],
   "source": [
    "x=merged_data.drop('finish',axis=1)\n",
    "y=merged_data['finish']"
   ]
  },
  {
   "cell_type": "markdown",
   "id": "22cb95a0-c5d8-4564-b0ab-1d32161be10e",
   "metadata": {},
   "source": [
    "#### **Splittting data into test and train set**"
   ]
  },
  {
   "cell_type": "code",
   "execution_count": 346,
   "id": "0509b9f6-49ed-4c38-a6a9-7fd39f228980",
   "metadata": {},
   "outputs": [],
   "source": [
    "X_train, X_test, y_train, y_test = train_test_split(x, y, test_size=0.20,random_state=0)"
   ]
  },
  {
   "cell_type": "markdown",
   "id": "3f0e31c7-ce74-4681-8415-b3b3cd0aeabf",
   "metadata": {},
   "source": [
    "#### **Building the Model**"
   ]
  },
  {
   "cell_type": "code",
   "execution_count": 347,
   "id": "c5a9cdda-b337-4d03-9623-810ad76738f3",
   "metadata": {},
   "outputs": [],
   "source": [
    "classifier=tree.DecisionTreeClassifier()"
   ]
  },
  {
   "cell_type": "code",
   "execution_count": 348,
   "id": "1531ba7b-0ecc-41cf-920d-51cc4f5aa864",
   "metadata": {},
   "outputs": [
    {
     "data": {
      "text/plain": [
       "DecisionTreeClassifier()"
      ]
     },
     "execution_count": 348,
     "metadata": {},
     "output_type": "execute_result"
    }
   ],
   "source": [
    "classifier.fit(X_train,y_train)"
   ]
  },
  {
   "cell_type": "markdown",
   "id": "83b9ebaa-6d51-4a86-83a0-f554415cf739",
   "metadata": {},
   "source": [
    "#### **Getting the Predictions**"
   ]
  },
  {
   "cell_type": "code",
   "execution_count": 349,
   "id": "0541251e-377e-40e2-b1c3-d362da82b547",
   "metadata": {},
   "outputs": [],
   "source": [
    "predictions = classifier.predict(X_test)"
   ]
  },
  {
   "cell_type": "markdown",
   "id": "776312ab-f8a9-4452-a4c3-870b6ae823a2",
   "metadata": {},
   "source": [
    "#### **Evaluating the results**"
   ]
  },
  {
   "cell_type": "code",
   "execution_count": 350,
   "id": "5747302a-759f-4107-b064-21afbbd4cc0f",
   "metadata": {},
   "outputs": [
    {
     "name": "stdout",
     "output_type": "stream",
     "text": [
      "Accuracy score: 0.7619047619047619\n"
     ]
    }
   ],
   "source": [
    "accuracy = metrics.accuracy_score(y_test, predictions) \n",
    "print(\"Accuracy score:\",accuracy)"
   ]
  },
  {
   "cell_type": "markdown",
   "id": "fc62250e-d497-41aa-8012-6afc35c25dc3",
   "metadata": {},
   "source": [
    "#### **That's Good. Accuracy is 76%**"
   ]
  },
  {
   "cell_type": "code",
   "execution_count": 351,
   "id": "1bb4668d-4d84-4718-bb0f-d6770f5c6c2e",
   "metadata": {},
   "outputs": [
    {
     "name": "stdout",
     "output_type": "stream",
     "text": [
      "              precision    recall  f1-score   support\n",
      "\n",
      "           0       0.64      0.88      0.74         8\n",
      "           1       0.90      0.69      0.78        13\n",
      "\n",
      "    accuracy                           0.76        21\n",
      "   macro avg       0.77      0.78      0.76        21\n",
      "weighted avg       0.80      0.76      0.77        21\n",
      "\n"
     ]
    }
   ],
   "source": [
    "print(classification_report(y_test,predictions))"
   ]
  },
  {
   "cell_type": "code",
   "execution_count": 352,
   "id": "9140383c-9473-49e4-98a1-9012fe97e5d3",
   "metadata": {},
   "outputs": [
    {
     "data": {
      "image/png": "[encoded data removed]",
      "text/plain": [
       "<Figure size 500x500 with 1 Axes>"
      ]
     },
     "metadata": {},
     "output_type": "display_data"
    }
   ],
   "source": [
    "conf_matrix = confusion_matrix(y_test,predictions)\n",
    "fig, ax = plt.subplots(figsize=(5, 5))\n",
    "ax.matshow(conf_matrix, cmap=plt.cm.Oranges, alpha=0.3)\n",
    "for i in range(conf_matrix.shape[0]):\n",
    "    for j in range(conf_matrix.shape[1]):\n",
    "        ax.text(x=j, y=i,s=conf_matrix[i, j], va='center', ha='center', size='xx-large')\n",
    " \n",
    "plt.xlabel('Predictions', fontsize=18)\n",
    "plt.ylabel('Actuals', fontsize=18)\n",
    "plt.title('Confusion Matrix', fontsize=18)\n",
    "plt.show()"
   ]
  },
  {
   "cell_type": "markdown",
   "id": "c8cc7dde-080c-43e1-b06d-7a36b75a5f2d",
   "metadata": {},
   "source": [
    "### **Cross checking the model by Hold Out Testing by using KFold Method.**"
   ]
  },
  {
   "cell_type": "code",
   "execution_count": 353,
   "id": "d62885f3-1aab-4fcb-b8b1-a6644e6e6466",
   "metadata": {},
   "outputs": [],
   "source": [
    "k = 5  \n",
    "k_fold = KFold(n_splits = k, random_state = None)  \n",
    "classifier=tree.DecisionTreeClassifier()\n",
    "acc_scores = [] "
   ]
  },
  {
   "cell_type": "code",
   "execution_count": 354,
   "id": "6a0955cb-6791-499a-92e2-d61a1ea03994",
   "metadata": {},
   "outputs": [],
   "source": [
    "for training_index, testing_index in k_fold.split(x):  \n",
    "    X_train, X_test = x.iloc[training_index,:], x.iloc[testing_index,:]  \n",
    "    Y_train, Y_test = y.iloc[training_index] , y.iloc[testing_index]  \n",
    "      \n",
    "    classifier.fit(X_train,Y_train)  \n",
    "       \n",
    "    Y_pred = classifier.predict(X_test)  \n",
    "       \n",
    "    acc = accuracy_score(Y_pred , Y_test)  \n",
    "    acc_scores.append(acc) "
   ]
  },
  {
   "cell_type": "code",
   "execution_count": 355,
   "id": "83b86f02-e973-40b0-b39e-1931c9485bc4",
   "metadata": {},
   "outputs": [
    {
     "name": "stdout",
     "output_type": "stream",
     "text": [
      "Accuracy score of each fold:  [0.38095238095238093, 0.8095238095238095, 0.9523809523809523, 0.75, 0.95]\n",
      "Mean accuracy score:  0.7685714285714285\n"
     ]
    }
   ],
   "source": [
    "mean_acc_score = sum(acc_scores) / k  \n",
    "   \n",
    "print(\"Accuracy score of each fold: \", acc_scores)  \n",
    "print(\"Mean accuracy score: \", mean_acc_score) "
   ]
  },
  {
   "cell_type": "markdown",
   "id": "e891f104-b4c6-4bce-91b7-7e1688ece5c8",
   "metadata": {},
   "source": [
    "##### **Great. By cross validation too, The mean accuracy is 76%**"
   ]
  }
 ],
 "metadata": {
  "kernelspec": {
   "display_name": "Python 3 (ipykernel)",
   "language": "python",
   "name": "python3"
  },
  "language_info": {
   "codemirror_mode": {
    "name": "ipython",
    "version": 3
   },
   "file_extension": ".py",
   "mimetype": "text/x-python",
   "name": "python",
   "nbconvert_exporter": "python",
   "pygments_lexer": "ipython3",
   "version": "3.9.13"
  }
 },
 "nbformat": 4,
 "nbformat_minor": 5
}
